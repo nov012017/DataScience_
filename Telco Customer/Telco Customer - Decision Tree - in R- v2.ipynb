{
 "cells": [
  {
   "cell_type": "markdown",
   "metadata": {},
   "source": [
    "# Telco Customer Dataset - Churn predcition using Decison Tree"
   ]
  },
  {
   "cell_type": "code",
   "execution_count": 1,
   "metadata": {},
   "outputs": [],
   "source": [
    "# install.packages(\"ggplot2\")\n",
    "# install.packages(\"dplyr\")\n",
    "# install.packages(\"rpart\")\n",
    "# install.packages(\"rattle\")\n",
    "# install.packages(\"rpart.plot\")\n",
    "# install.packages(\"RColorBrewer\")\n",
    "# install.packages(\"party\")\n",
    "# install.packages(\"partykit\")\n",
    "# install.packages(\"caret\")\n",
    "# install.packages(\"heuristica\")\n",
    "# install.packages(\"dummies\")"
   ]
  },
  {
   "cell_type": "code",
   "execution_count": 2,
   "metadata": {},
   "outputs": [
    {
     "name": "stderr",
     "output_type": "stream",
     "text": [
      "Warning message:\n",
      "“package ‘dplyr’ was built under R version 3.4.2”\n",
      "Attaching package: ‘dplyr’\n",
      "\n",
      "The following objects are masked from ‘package:stats’:\n",
      "\n",
      "    filter, lag\n",
      "\n",
      "The following objects are masked from ‘package:base’:\n",
      "\n",
      "    intersect, setdiff, setequal, union\n",
      "\n",
      "Warning message:\n",
      "“package ‘rpart’ was built under R version 3.4.3”dummies-1.5.6 provided by Decision Patterns\n",
      "\n"
     ]
    }
   ],
   "source": [
    "library(ggplot2)\n",
    "library(dplyr)\n",
    "library(rpart)\n",
    "library(dummies)\n",
    "# library(rattle)\n",
    "library(rpart.plot)\n",
    "library(heuristica)\n",
    "# library(RColorBrewer)\n",
    "# library(party)\n",
    "# library(partykit)\n",
    "# library(caret)"
   ]
  },
  {
   "cell_type": "markdown",
   "metadata": {},
   "source": [
    "## Reading dataset"
   ]
  },
  {
   "cell_type": "code",
   "execution_count": 3,
   "metadata": {},
   "outputs": [
    {
     "name": "stdout",
     "output_type": "stream",
     "text": [
      "'data.frame':\t7043 obs. of  21 variables:\n",
      " $ customerID      : Factor w/ 7043 levels \"0002-ORFBO\",\"0003-MKNFE\",..: 5376 3963 2565 5536 6512 6552 1003 4771 5605 4535 ...\n",
      " $ gender          : Factor w/ 2 levels \"Female\",\"Male\": 1 2 2 2 1 1 2 1 1 2 ...\n",
      " $ SeniorCitizen   : int  0 0 0 0 0 0 0 0 0 0 ...\n",
      " $ Partner         : Factor w/ 2 levels \"No\",\"Yes\": 2 1 1 1 1 1 1 1 2 1 ...\n",
      " $ Dependents      : Factor w/ 2 levels \"No\",\"Yes\": 1 1 1 1 1 1 2 1 1 2 ...\n",
      " $ tenure          : int  1 34 2 45 2 8 22 10 28 62 ...\n",
      " $ PhoneService    : Factor w/ 2 levels \"No\",\"Yes\": 1 2 2 1 2 2 2 1 2 2 ...\n",
      " $ MultipleLines   : Factor w/ 3 levels \"No\",\"No phone service\",..: 2 1 1 2 1 3 3 2 3 1 ...\n",
      " $ InternetService : Factor w/ 3 levels \"DSL\",\"Fiber optic\",..: 1 1 1 1 2 2 2 1 2 1 ...\n",
      " $ OnlineSecurity  : Factor w/ 3 levels \"No\",\"No internet service\",..: 1 3 3 3 1 1 1 3 1 3 ...\n",
      " $ OnlineBackup    : Factor w/ 3 levels \"No\",\"No internet service\",..: 3 1 3 1 1 1 3 1 1 3 ...\n",
      " $ DeviceProtection: Factor w/ 3 levels \"No\",\"No internet service\",..: 1 3 1 3 1 3 1 1 3 1 ...\n",
      " $ TechSupport     : Factor w/ 3 levels \"No\",\"No internet service\",..: 1 1 1 3 1 1 1 1 3 1 ...\n",
      " $ StreamingTV     : Factor w/ 3 levels \"No\",\"No internet service\",..: 1 1 1 1 1 3 3 1 3 1 ...\n",
      " $ StreamingMovies : Factor w/ 3 levels \"No\",\"No internet service\",..: 1 1 1 1 1 3 1 1 3 1 ...\n",
      " $ Contract        : Factor w/ 3 levels \"Month-to-month\",..: 1 2 1 2 1 1 1 1 1 2 ...\n",
      " $ PaperlessBilling: Factor w/ 2 levels \"No\",\"Yes\": 2 1 2 1 2 2 2 1 2 1 ...\n",
      " $ PaymentMethod   : Factor w/ 4 levels \"Bank transfer (automatic)\",..: 3 4 4 1 3 3 2 4 3 1 ...\n",
      " $ MonthlyCharges  : num  29.9 57 53.9 42.3 70.7 ...\n",
      " $ TotalCharges    : num  29.9 1889.5 108.2 1840.8 151.7 ...\n",
      " $ Churn           : Factor w/ 2 levels \"No\",\"Yes\": 1 1 2 1 2 2 1 1 2 1 ...\n"
     ]
    },
    {
     "data": {
      "text/plain": [
       "      customerID      gender     SeniorCitizen    Partner    Dependents\n",
       " 0002-ORFBO:   1   Female:3488   Min.   :0.0000   No :3641   No :4933  \n",
       " 0003-MKNFE:   1   Male  :3555   1st Qu.:0.0000   Yes:3402   Yes:2110  \n",
       " 0004-TLHLJ:   1                 Median :0.0000                        \n",
       " 0011-IGKFF:   1                 Mean   :0.1621                        \n",
       " 0013-EXCHZ:   1                 3rd Qu.:0.0000                        \n",
       " 0013-MHZWF:   1                 Max.   :1.0000                        \n",
       " (Other)   :7037                                                       \n",
       "     tenure      PhoneService          MultipleLines     InternetService\n",
       " Min.   : 0.00   No : 682     No              :3390   DSL        :2421  \n",
       " 1st Qu.: 9.00   Yes:6361     No phone service: 682   Fiber optic:3096  \n",
       " Median :29.00                Yes             :2971   No         :1526  \n",
       " Mean   :32.37                                                          \n",
       " 3rd Qu.:55.00                                                          \n",
       " Max.   :72.00                                                          \n",
       "                                                                        \n",
       "             OnlineSecurity              OnlineBackup \n",
       " No                 :3498   No                 :3088  \n",
       " No internet service:1526   No internet service:1526  \n",
       " Yes                :2019   Yes                :2429  \n",
       "                                                      \n",
       "                                                      \n",
       "                                                      \n",
       "                                                      \n",
       "            DeviceProtection              TechSupport  \n",
       " No                 :3095    No                 :3473  \n",
       " No internet service:1526    No internet service:1526  \n",
       " Yes                :2422    Yes                :2044  \n",
       "                                                       \n",
       "                                                       \n",
       "                                                       \n",
       "                                                       \n",
       "              StreamingTV              StreamingMovies           Contract   \n",
       " No                 :2810   No                 :2785   Month-to-month:3875  \n",
       " No internet service:1526   No internet service:1526   One year      :1473  \n",
       " Yes                :2707   Yes                :2732   Two year      :1695  \n",
       "                                                                            \n",
       "                                                                            \n",
       "                                                                            \n",
       "                                                                            \n",
       " PaperlessBilling                   PaymentMethod  MonthlyCharges  \n",
       " No :2872         Bank transfer (automatic):1544   Min.   : 18.25  \n",
       " Yes:4171         Credit card (automatic)  :1522   1st Qu.: 35.50  \n",
       "                  Electronic check         :2365   Median : 70.35  \n",
       "                  Mailed check             :1612   Mean   : 64.76  \n",
       "                                                   3rd Qu.: 89.85  \n",
       "                                                   Max.   :118.75  \n",
       "                                                                   \n",
       "  TotalCharges    Churn     \n",
       " Min.   :  18.8   No :5174  \n",
       " 1st Qu.: 401.4   Yes:1869  \n",
       " Median :1397.5             \n",
       " Mean   :2283.3             \n",
       " 3rd Qu.:3794.7             \n",
       " Max.   :8684.8             \n",
       " NA's   :11                 "
      ]
     },
     "metadata": {},
     "output_type": "display_data"
    },
    {
     "data": {
      "text/plain": [
       "\n",
       "       No       Yes \n",
       "0.7346301 0.2653699 "
      ]
     },
     "metadata": {},
     "output_type": "display_data"
    }
   ],
   "source": [
    "data.set = read.csv(file=\"Datasets/Teleco_Cust_Attr.csv\",header = T)\n",
    "str(data.set)\n",
    "summary(data.set)\n",
    "prop.table(table(data.set$Churn))"
   ]
  },
  {
   "cell_type": "markdown",
   "metadata": {},
   "source": [
    "## Data preprocessing"
   ]
  },
  {
   "cell_type": "code",
   "execution_count": 4,
   "metadata": {
    "scrolled": false
   },
   "outputs": [
    {
     "data": {
      "text/html": [
       "<dl class=dl-horizontal>\n",
       "\t<dt>gender</dt>\n",
       "\t\t<dd>0</dd>\n",
       "\t<dt>SeniorCitizen</dt>\n",
       "\t\t<dd>0</dd>\n",
       "\t<dt>Partner</dt>\n",
       "\t\t<dd>0</dd>\n",
       "\t<dt>Dependents</dt>\n",
       "\t\t<dd>0</dd>\n",
       "\t<dt>tenure</dt>\n",
       "\t\t<dd>0</dd>\n",
       "\t<dt>PhoneService</dt>\n",
       "\t\t<dd>0</dd>\n",
       "\t<dt>MultipleLines</dt>\n",
       "\t\t<dd>0</dd>\n",
       "\t<dt>InternetService</dt>\n",
       "\t\t<dd>0</dd>\n",
       "\t<dt>OnlineSecurity</dt>\n",
       "\t\t<dd>0</dd>\n",
       "\t<dt>OnlineBackup</dt>\n",
       "\t\t<dd>0</dd>\n",
       "\t<dt>DeviceProtection</dt>\n",
       "\t\t<dd>0</dd>\n",
       "\t<dt>TechSupport</dt>\n",
       "\t\t<dd>0</dd>\n",
       "\t<dt>StreamingTV</dt>\n",
       "\t\t<dd>0</dd>\n",
       "\t<dt>StreamingMovies</dt>\n",
       "\t\t<dd>0</dd>\n",
       "\t<dt>Contract</dt>\n",
       "\t\t<dd>0</dd>\n",
       "\t<dt>PaperlessBilling</dt>\n",
       "\t\t<dd>0</dd>\n",
       "\t<dt>PaymentMethod</dt>\n",
       "\t\t<dd>0</dd>\n",
       "\t<dt>MonthlyCharges</dt>\n",
       "\t\t<dd>0</dd>\n",
       "\t<dt>TotalCharges</dt>\n",
       "\t\t<dd>11</dd>\n",
       "\t<dt>Churn</dt>\n",
       "\t\t<dd>0</dd>\n",
       "</dl>\n"
      ],
      "text/latex": [
       "\\begin{description*}\n",
       "\\item[gender] 0\n",
       "\\item[SeniorCitizen] 0\n",
       "\\item[Partner] 0\n",
       "\\item[Dependents] 0\n",
       "\\item[tenure] 0\n",
       "\\item[PhoneService] 0\n",
       "\\item[MultipleLines] 0\n",
       "\\item[InternetService] 0\n",
       "\\item[OnlineSecurity] 0\n",
       "\\item[OnlineBackup] 0\n",
       "\\item[DeviceProtection] 0\n",
       "\\item[TechSupport] 0\n",
       "\\item[StreamingTV] 0\n",
       "\\item[StreamingMovies] 0\n",
       "\\item[Contract] 0\n",
       "\\item[PaperlessBilling] 0\n",
       "\\item[PaymentMethod] 0\n",
       "\\item[MonthlyCharges] 0\n",
       "\\item[TotalCharges] 11\n",
       "\\item[Churn] 0\n",
       "\\end{description*}\n"
      ],
      "text/markdown": [
       "gender\n",
       ":   0SeniorCitizen\n",
       ":   0Partner\n",
       ":   0Dependents\n",
       ":   0tenure\n",
       ":   0PhoneService\n",
       ":   0MultipleLines\n",
       ":   0InternetService\n",
       ":   0OnlineSecurity\n",
       ":   0OnlineBackup\n",
       ":   0DeviceProtection\n",
       ":   0TechSupport\n",
       ":   0StreamingTV\n",
       ":   0StreamingMovies\n",
       ":   0Contract\n",
       ":   0PaperlessBilling\n",
       ":   0PaymentMethod\n",
       ":   0MonthlyCharges\n",
       ":   0TotalCharges\n",
       ":   11Churn\n",
       ":   0\n",
       "\n"
      ],
      "text/plain": [
       "          gender    SeniorCitizen          Partner       Dependents \n",
       "               0                0                0                0 \n",
       "          tenure     PhoneService    MultipleLines  InternetService \n",
       "               0                0                0                0 \n",
       "  OnlineSecurity     OnlineBackup DeviceProtection      TechSupport \n",
       "               0                0                0                0 \n",
       "     StreamingTV  StreamingMovies         Contract PaperlessBilling \n",
       "               0                0                0                0 \n",
       "   PaymentMethod   MonthlyCharges     TotalCharges            Churn \n",
       "               0                0               11                0 "
      ]
     },
     "metadata": {},
     "output_type": "display_data"
    }
   ],
   "source": [
    "data.set$customerID = NULL\n",
    "sapply(data.set,function(x){sum(is.na(x))})"
   ]
  },
  {
   "cell_type": "markdown",
   "metadata": {},
   "source": [
    "### Handling nulls"
   ]
  },
  {
   "cell_type": "code",
   "execution_count": 5,
   "metadata": {},
   "outputs": [],
   "source": [
    "data.set$TotalCharges = ifelse(is.na(data.set$TotalCharges),data.set$MonthlyCharges*data.set$tenure,data.set$TotalCharges)"
   ]
  },
  {
   "cell_type": "code",
   "execution_count": 6,
   "metadata": {},
   "outputs": [
    {
     "data": {
      "text/html": [
       "<ol class=list-inline>\n",
       "\t<li>0</li>\n",
       "\t<li>1</li>\n",
       "</ol>\n"
      ],
      "text/latex": [
       "\\begin{enumerate*}\n",
       "\\item 0\n",
       "\\item 1\n",
       "\\end{enumerate*}\n"
      ],
      "text/markdown": [
       "1. 0\n",
       "2. 1\n",
       "\n",
       "\n"
      ],
      "text/plain": [
       "[1] 0 1"
      ]
     },
     "metadata": {},
     "output_type": "display_data"
    }
   ],
   "source": [
    "unique(data.set$SeniorCitizen)\n",
    "data.set$SeniorCitizen = as.factor(data.set$SeniorCitizen)"
   ]
  },
  {
   "cell_type": "code",
   "execution_count": 7,
   "metadata": {},
   "outputs": [
    {
     "name": "stdout",
     "output_type": "stream",
     "text": [
      "'data.frame':\t7043 obs. of  20 variables:\n",
      " $ gender          : Factor w/ 2 levels \"Female\",\"Male\": 1 2 2 2 1 1 2 1 1 2 ...\n",
      " $ SeniorCitizen   : Factor w/ 2 levels \"0\",\"1\": 1 1 1 1 1 1 1 1 1 1 ...\n",
      " $ Partner         : Factor w/ 2 levels \"No\",\"Yes\": 2 1 1 1 1 1 1 1 2 1 ...\n",
      " $ Dependents      : Factor w/ 2 levels \"No\",\"Yes\": 1 1 1 1 1 1 2 1 1 2 ...\n",
      " $ tenure          : int  1 34 2 45 2 8 22 10 28 62 ...\n",
      " $ PhoneService    : Factor w/ 2 levels \"No\",\"Yes\": 1 2 2 1 2 2 2 1 2 2 ...\n",
      " $ MultipleLines   : Factor w/ 3 levels \"No\",\"No phone service\",..: 2 1 1 2 1 3 3 2 3 1 ...\n",
      " $ InternetService : Factor w/ 3 levels \"DSL\",\"Fiber optic\",..: 1 1 1 1 2 2 2 1 2 1 ...\n",
      " $ OnlineSecurity  : Factor w/ 3 levels \"No\",\"No internet service\",..: 1 3 3 3 1 1 1 3 1 3 ...\n",
      " $ OnlineBackup    : Factor w/ 3 levels \"No\",\"No internet service\",..: 3 1 3 1 1 1 3 1 1 3 ...\n",
      " $ DeviceProtection: Factor w/ 3 levels \"No\",\"No internet service\",..: 1 3 1 3 1 3 1 1 3 1 ...\n",
      " $ TechSupport     : Factor w/ 3 levels \"No\",\"No internet service\",..: 1 1 1 3 1 1 1 1 3 1 ...\n",
      " $ StreamingTV     : Factor w/ 3 levels \"No\",\"No internet service\",..: 1 1 1 1 1 3 3 1 3 1 ...\n",
      " $ StreamingMovies : Factor w/ 3 levels \"No\",\"No internet service\",..: 1 1 1 1 1 3 1 1 3 1 ...\n",
      " $ Contract        : Factor w/ 3 levels \"Month-to-month\",..: 1 2 1 2 1 1 1 1 1 2 ...\n",
      " $ PaperlessBilling: Factor w/ 2 levels \"No\",\"Yes\": 2 1 2 1 2 2 2 1 2 1 ...\n",
      " $ PaymentMethod   : Factor w/ 4 levels \"Bank transfer (automatic)\",..: 3 4 4 1 3 3 2 4 3 1 ...\n",
      " $ MonthlyCharges  : num  29.9 57 53.9 42.3 70.7 ...\n",
      " $ TotalCharges    : num  29.9 1889.5 108.2 1840.8 151.7 ...\n",
      " $ Churn           : Factor w/ 2 levels \"No\",\"Yes\": 1 1 2 1 2 2 1 1 2 1 ...\n"
     ]
    }
   ],
   "source": [
    "str(data.set)"
   ]
  },
  {
   "cell_type": "markdown",
   "metadata": {},
   "source": [
    "## Dummies"
   ]
  },
  {
   "cell_type": "code",
   "execution_count": 8,
   "metadata": {},
   "outputs": [
    {
     "data": {
      "text/html": [
       "<table>\n",
       "<thead><tr><th scope=col>gender,Female</th><th scope=col>gender,Male</th><th scope=col>SeniorCitizen,0</th><th scope=col>SeniorCitizen,1</th><th scope=col>Partner,No</th><th scope=col>Partner,Yes</th><th scope=col>Dependents,No</th><th scope=col>Dependents,Yes</th><th scope=col>tenure</th><th scope=col>PhoneService,No</th><th scope=col>⋯</th><th scope=col>PaperlessBilling,No</th><th scope=col>PaperlessBilling,Yes</th><th scope=col>PaymentMethod,Bank transfer (automatic)</th><th scope=col>PaymentMethod,Credit card (automatic)</th><th scope=col>PaymentMethod,Electronic check</th><th scope=col>PaymentMethod,Mailed check</th><th scope=col>MonthlyCharges</th><th scope=col>TotalCharges</th><th scope=col>Churn,No</th><th scope=col>Churn,Yes</th></tr></thead>\n",
       "<tbody>\n",
       "\t<tr><td>1      </td><td>0      </td><td>1      </td><td>0      </td><td>0      </td><td>1      </td><td>1      </td><td>0      </td><td> 1     </td><td>1      </td><td>⋯      </td><td>0      </td><td>1      </td><td>0      </td><td>0      </td><td>1      </td><td>0      </td><td>29.85  </td><td>  29.85</td><td>1      </td><td>0      </td></tr>\n",
       "\t<tr><td>0      </td><td>1      </td><td>1      </td><td>0      </td><td>1      </td><td>0      </td><td>1      </td><td>0      </td><td>34     </td><td>0      </td><td>⋯      </td><td>1      </td><td>0      </td><td>0      </td><td>0      </td><td>0      </td><td>1      </td><td>56.95  </td><td>1889.50</td><td>1      </td><td>0      </td></tr>\n",
       "\t<tr><td>0      </td><td>1      </td><td>1      </td><td>0      </td><td>1      </td><td>0      </td><td>1      </td><td>0      </td><td> 2     </td><td>0      </td><td>⋯      </td><td>0      </td><td>1      </td><td>0      </td><td>0      </td><td>0      </td><td>1      </td><td>53.85  </td><td> 108.15</td><td>0      </td><td>1      </td></tr>\n",
       "\t<tr><td>0      </td><td>1      </td><td>1      </td><td>0      </td><td>1      </td><td>0      </td><td>1      </td><td>0      </td><td>45     </td><td>1      </td><td>⋯      </td><td>1      </td><td>0      </td><td>1      </td><td>0      </td><td>0      </td><td>0      </td><td>42.30  </td><td>1840.75</td><td>1      </td><td>0      </td></tr>\n",
       "\t<tr><td>1      </td><td>0      </td><td>1      </td><td>0      </td><td>1      </td><td>0      </td><td>1      </td><td>0      </td><td> 2     </td><td>0      </td><td>⋯      </td><td>0      </td><td>1      </td><td>0      </td><td>0      </td><td>1      </td><td>0      </td><td>70.70  </td><td> 151.65</td><td>0      </td><td>1      </td></tr>\n",
       "\t<tr><td>1      </td><td>0      </td><td>1      </td><td>0      </td><td>1      </td><td>0      </td><td>1      </td><td>0      </td><td> 8     </td><td>0      </td><td>⋯      </td><td>0      </td><td>1      </td><td>0      </td><td>0      </td><td>1      </td><td>0      </td><td>99.65  </td><td> 820.50</td><td>0      </td><td>1      </td></tr>\n",
       "</tbody>\n",
       "</table>\n"
      ],
      "text/latex": [
       "\\begin{tabular}{r|llllllllllllllllllllllllllllllllllllllllllllllll}\n",
       " gender,Female & gender,Male & SeniorCitizen,0 & SeniorCitizen,1 & Partner,No & Partner,Yes & Dependents,No & Dependents,Yes & tenure & PhoneService,No & ⋯ & PaperlessBilling,No & PaperlessBilling,Yes & PaymentMethod,Bank transfer (automatic) & PaymentMethod,Credit card (automatic) & PaymentMethod,Electronic check & PaymentMethod,Mailed check & MonthlyCharges & TotalCharges & Churn,No & Churn,Yes\\\\\n",
       "\\hline\n",
       "\t 1       & 0       & 1       & 0       & 0       & 1       & 1       & 0       &  1      & 1       & ⋯       & 0       & 1       & 0       & 0       & 1       & 0       & 29.85   &   29.85 & 1       & 0      \\\\\n",
       "\t 0       & 1       & 1       & 0       & 1       & 0       & 1       & 0       & 34      & 0       & ⋯       & 1       & 0       & 0       & 0       & 0       & 1       & 56.95   & 1889.50 & 1       & 0      \\\\\n",
       "\t 0       & 1       & 1       & 0       & 1       & 0       & 1       & 0       &  2      & 0       & ⋯       & 0       & 1       & 0       & 0       & 0       & 1       & 53.85   &  108.15 & 0       & 1      \\\\\n",
       "\t 0       & 1       & 1       & 0       & 1       & 0       & 1       & 0       & 45      & 1       & ⋯       & 1       & 0       & 1       & 0       & 0       & 0       & 42.30   & 1840.75 & 1       & 0      \\\\\n",
       "\t 1       & 0       & 1       & 0       & 1       & 0       & 1       & 0       &  2      & 0       & ⋯       & 0       & 1       & 0       & 0       & 1       & 0       & 70.70   &  151.65 & 0       & 1      \\\\\n",
       "\t 1       & 0       & 1       & 0       & 1       & 0       & 1       & 0       &  8      & 0       & ⋯       & 0       & 1       & 0       & 0       & 1       & 0       & 99.65   &  820.50 & 0       & 1      \\\\\n",
       "\\end{tabular}\n"
      ],
      "text/markdown": [
       "\n",
       "gender,Female | gender,Male | SeniorCitizen,0 | SeniorCitizen,1 | Partner,No | Partner,Yes | Dependents,No | Dependents,Yes | tenure | PhoneService,No | ⋯ | PaperlessBilling,No | PaperlessBilling,Yes | PaymentMethod,Bank transfer (automatic) | PaymentMethod,Credit card (automatic) | PaymentMethod,Electronic check | PaymentMethod,Mailed check | MonthlyCharges | TotalCharges | Churn,No | Churn,Yes | \n",
       "|---|---|---|---|---|---|\n",
       "| 1       | 0       | 1       | 0       | 0       | 1       | 1       | 0       |  1      | 1       | ⋯       | 0       | 1       | 0       | 0       | 1       | 0       | 29.85   |   29.85 | 1       | 0       | \n",
       "| 0       | 1       | 1       | 0       | 1       | 0       | 1       | 0       | 34      | 0       | ⋯       | 1       | 0       | 0       | 0       | 0       | 1       | 56.95   | 1889.50 | 1       | 0       | \n",
       "| 0       | 1       | 1       | 0       | 1       | 0       | 1       | 0       |  2      | 0       | ⋯       | 0       | 1       | 0       | 0       | 0       | 1       | 53.85   |  108.15 | 0       | 1       | \n",
       "| 0       | 1       | 1       | 0       | 1       | 0       | 1       | 0       | 45      | 1       | ⋯       | 1       | 0       | 1       | 0       | 0       | 0       | 42.30   | 1840.75 | 1       | 0       | \n",
       "| 1       | 0       | 1       | 0       | 1       | 0       | 1       | 0       |  2      | 0       | ⋯       | 0       | 1       | 0       | 0       | 1       | 0       | 70.70   |  151.65 | 0       | 1       | \n",
       "| 1       | 0       | 1       | 0       | 1       | 0       | 1       | 0       |  8      | 0       | ⋯       | 0       | 1       | 0       | 0       | 1       | 0       | 99.65   |  820.50 | 0       | 1       | \n",
       "\n",
       "\n"
      ],
      "text/plain": [
       "  gender,Female gender,Male SeniorCitizen,0 SeniorCitizen,1 Partner,No\n",
       "1 1             0           1               0               0         \n",
       "2 0             1           1               0               1         \n",
       "3 0             1           1               0               1         \n",
       "4 0             1           1               0               1         \n",
       "5 1             0           1               0               1         \n",
       "6 1             0           1               0               1         \n",
       "  Partner,Yes Dependents,No Dependents,Yes tenure PhoneService,No ⋯\n",
       "1 1           1             0               1     1               ⋯\n",
       "2 0           1             0              34     0               ⋯\n",
       "3 0           1             0               2     0               ⋯\n",
       "4 0           1             0              45     1               ⋯\n",
       "5 0           1             0               2     0               ⋯\n",
       "6 0           1             0               8     0               ⋯\n",
       "  PaperlessBilling,No PaperlessBilling,Yes\n",
       "1 0                   1                   \n",
       "2 1                   0                   \n",
       "3 0                   1                   \n",
       "4 1                   0                   \n",
       "5 0                   1                   \n",
       "6 0                   1                   \n",
       "  PaymentMethod,Bank transfer (automatic) PaymentMethod,Credit card (automatic)\n",
       "1 0                                       0                                    \n",
       "2 0                                       0                                    \n",
       "3 0                                       0                                    \n",
       "4 1                                       0                                    \n",
       "5 0                                       0                                    \n",
       "6 0                                       0                                    \n",
       "  PaymentMethod,Electronic check PaymentMethod,Mailed check MonthlyCharges\n",
       "1 1                              0                          29.85         \n",
       "2 0                              1                          56.95         \n",
       "3 0                              1                          53.85         \n",
       "4 0                              0                          42.30         \n",
       "5 1                              0                          70.70         \n",
       "6 1                              0                          99.65         \n",
       "  TotalCharges Churn,No Churn,Yes\n",
       "1   29.85      1        0        \n",
       "2 1889.50      1        0        \n",
       "3  108.15      0        1        \n",
       "4 1840.75      1        0        \n",
       "5  151.65      0        1        \n",
       "6  820.50      0        1        "
      ]
     },
     "metadata": {},
     "output_type": "display_data"
    },
    {
     "data": {
      "text/html": [
       "<table>\n",
       "<thead><tr><th scope=col>gender,Female</th><th scope=col>gender,Male</th><th scope=col>SeniorCitizen,0</th><th scope=col>SeniorCitizen,1</th><th scope=col>Partner,No</th><th scope=col>Partner,Yes</th><th scope=col>Dependents,No</th><th scope=col>Dependents,Yes</th><th scope=col>tenure</th><th scope=col>PhoneService,No</th><th scope=col>⋯</th><th scope=col>PaperlessBilling,Yes</th><th scope=col>PaymentMethod,Bank transfer (automatic)</th><th scope=col>PaymentMethod,Credit card (automatic)</th><th scope=col>PaymentMethod,Electronic check</th><th scope=col>PaymentMethod,Mailed check</th><th scope=col>MonthlyCharges</th><th scope=col>TotalCharges</th><th scope=col>Churn,No</th><th scope=col>Churn,Yes</th><th scope=col>Churn</th></tr></thead>\n",
       "<tbody>\n",
       "\t<tr><td>1      </td><td>0      </td><td>1      </td><td>0      </td><td>0      </td><td>1      </td><td>1      </td><td>0      </td><td> 1     </td><td>1      </td><td>⋯      </td><td>1      </td><td>0      </td><td>0      </td><td>1      </td><td>0      </td><td>29.85  </td><td>  29.85</td><td>1      </td><td>0      </td><td>No     </td></tr>\n",
       "\t<tr><td>0      </td><td>1      </td><td>1      </td><td>0      </td><td>1      </td><td>0      </td><td>1      </td><td>0      </td><td>34     </td><td>0      </td><td>⋯      </td><td>0      </td><td>0      </td><td>0      </td><td>0      </td><td>1      </td><td>56.95  </td><td>1889.50</td><td>1      </td><td>0      </td><td>No     </td></tr>\n",
       "\t<tr><td>0      </td><td>1      </td><td>1      </td><td>0      </td><td>1      </td><td>0      </td><td>1      </td><td>0      </td><td> 2     </td><td>0      </td><td>⋯      </td><td>1      </td><td>0      </td><td>0      </td><td>0      </td><td>1      </td><td>53.85  </td><td> 108.15</td><td>0      </td><td>1      </td><td>Yes    </td></tr>\n",
       "\t<tr><td>0      </td><td>1      </td><td>1      </td><td>0      </td><td>1      </td><td>0      </td><td>1      </td><td>0      </td><td>45     </td><td>1      </td><td>⋯      </td><td>0      </td><td>1      </td><td>0      </td><td>0      </td><td>0      </td><td>42.30  </td><td>1840.75</td><td>1      </td><td>0      </td><td>No     </td></tr>\n",
       "\t<tr><td>1      </td><td>0      </td><td>1      </td><td>0      </td><td>1      </td><td>0      </td><td>1      </td><td>0      </td><td> 2     </td><td>0      </td><td>⋯      </td><td>1      </td><td>0      </td><td>0      </td><td>1      </td><td>0      </td><td>70.70  </td><td> 151.65</td><td>0      </td><td>1      </td><td>Yes    </td></tr>\n",
       "\t<tr><td>1      </td><td>0      </td><td>1      </td><td>0      </td><td>1      </td><td>0      </td><td>1      </td><td>0      </td><td> 8     </td><td>0      </td><td>⋯      </td><td>1      </td><td>0      </td><td>0      </td><td>1      </td><td>0      </td><td>99.65  </td><td> 820.50</td><td>0      </td><td>1      </td><td>Yes    </td></tr>\n",
       "</tbody>\n",
       "</table>\n"
      ],
      "text/latex": [
       "\\begin{tabular}{r|lllllllllllllllllllllllllllllllllllllllllllllllll}\n",
       " gender,Female & gender,Male & SeniorCitizen,0 & SeniorCitizen,1 & Partner,No & Partner,Yes & Dependents,No & Dependents,Yes & tenure & PhoneService,No & ⋯ & PaperlessBilling,Yes & PaymentMethod,Bank transfer (automatic) & PaymentMethod,Credit card (automatic) & PaymentMethod,Electronic check & PaymentMethod,Mailed check & MonthlyCharges & TotalCharges & Churn,No & Churn,Yes & Churn\\\\\n",
       "\\hline\n",
       "\t 1       & 0       & 1       & 0       & 0       & 1       & 1       & 0       &  1      & 1       & ⋯       & 1       & 0       & 0       & 1       & 0       & 29.85   &   29.85 & 1       & 0       & No     \\\\\n",
       "\t 0       & 1       & 1       & 0       & 1       & 0       & 1       & 0       & 34      & 0       & ⋯       & 0       & 0       & 0       & 0       & 1       & 56.95   & 1889.50 & 1       & 0       & No     \\\\\n",
       "\t 0       & 1       & 1       & 0       & 1       & 0       & 1       & 0       &  2      & 0       & ⋯       & 1       & 0       & 0       & 0       & 1       & 53.85   &  108.15 & 0       & 1       & Yes    \\\\\n",
       "\t 0       & 1       & 1       & 0       & 1       & 0       & 1       & 0       & 45      & 1       & ⋯       & 0       & 1       & 0       & 0       & 0       & 42.30   & 1840.75 & 1       & 0       & No     \\\\\n",
       "\t 1       & 0       & 1       & 0       & 1       & 0       & 1       & 0       &  2      & 0       & ⋯       & 1       & 0       & 0       & 1       & 0       & 70.70   &  151.65 & 0       & 1       & Yes    \\\\\n",
       "\t 1       & 0       & 1       & 0       & 1       & 0       & 1       & 0       &  8      & 0       & ⋯       & 1       & 0       & 0       & 1       & 0       & 99.65   &  820.50 & 0       & 1       & Yes    \\\\\n",
       "\\end{tabular}\n"
      ],
      "text/markdown": [
       "\n",
       "gender,Female | gender,Male | SeniorCitizen,0 | SeniorCitizen,1 | Partner,No | Partner,Yes | Dependents,No | Dependents,Yes | tenure | PhoneService,No | ⋯ | PaperlessBilling,Yes | PaymentMethod,Bank transfer (automatic) | PaymentMethod,Credit card (automatic) | PaymentMethod,Electronic check | PaymentMethod,Mailed check | MonthlyCharges | TotalCharges | Churn,No | Churn,Yes | Churn | \n",
       "|---|---|---|---|---|---|\n",
       "| 1       | 0       | 1       | 0       | 0       | 1       | 1       | 0       |  1      | 1       | ⋯       | 1       | 0       | 0       | 1       | 0       | 29.85   |   29.85 | 1       | 0       | No      | \n",
       "| 0       | 1       | 1       | 0       | 1       | 0       | 1       | 0       | 34      | 0       | ⋯       | 0       | 0       | 0       | 0       | 1       | 56.95   | 1889.50 | 1       | 0       | No      | \n",
       "| 0       | 1       | 1       | 0       | 1       | 0       | 1       | 0       |  2      | 0       | ⋯       | 1       | 0       | 0       | 0       | 1       | 53.85   |  108.15 | 0       | 1       | Yes     | \n",
       "| 0       | 1       | 1       | 0       | 1       | 0       | 1       | 0       | 45      | 1       | ⋯       | 0       | 1       | 0       | 0       | 0       | 42.30   | 1840.75 | 1       | 0       | No      | \n",
       "| 1       | 0       | 1       | 0       | 1       | 0       | 1       | 0       |  2      | 0       | ⋯       | 1       | 0       | 0       | 1       | 0       | 70.70   |  151.65 | 0       | 1       | Yes     | \n",
       "| 1       | 0       | 1       | 0       | 1       | 0       | 1       | 0       |  8      | 0       | ⋯       | 1       | 0       | 0       | 1       | 0       | 99.65   |  820.50 | 0       | 1       | Yes     | \n",
       "\n",
       "\n"
      ],
      "text/plain": [
       "  gender,Female gender,Male SeniorCitizen,0 SeniorCitizen,1 Partner,No\n",
       "1 1             0           1               0               0         \n",
       "2 0             1           1               0               1         \n",
       "3 0             1           1               0               1         \n",
       "4 0             1           1               0               1         \n",
       "5 1             0           1               0               1         \n",
       "6 1             0           1               0               1         \n",
       "  Partner,Yes Dependents,No Dependents,Yes tenure PhoneService,No ⋯\n",
       "1 1           1             0               1     1               ⋯\n",
       "2 0           1             0              34     0               ⋯\n",
       "3 0           1             0               2     0               ⋯\n",
       "4 0           1             0              45     1               ⋯\n",
       "5 0           1             0               2     0               ⋯\n",
       "6 0           1             0               8     0               ⋯\n",
       "  PaperlessBilling,Yes PaymentMethod,Bank transfer (automatic)\n",
       "1 1                    0                                      \n",
       "2 0                    0                                      \n",
       "3 1                    0                                      \n",
       "4 0                    1                                      \n",
       "5 1                    0                                      \n",
       "6 1                    0                                      \n",
       "  PaymentMethod,Credit card (automatic) PaymentMethod,Electronic check\n",
       "1 0                                     1                             \n",
       "2 0                                     0                             \n",
       "3 0                                     0                             \n",
       "4 0                                     0                             \n",
       "5 0                                     1                             \n",
       "6 0                                     1                             \n",
       "  PaymentMethod,Mailed check MonthlyCharges TotalCharges Churn,No Churn,Yes\n",
       "1 0                          29.85            29.85      1        0        \n",
       "2 1                          56.95          1889.50      1        0        \n",
       "3 1                          53.85           108.15      0        1        \n",
       "4 0                          42.30          1840.75      1        0        \n",
       "5 0                          70.70           151.65      0        1        \n",
       "6 0                          99.65           820.50      0        1        \n",
       "  Churn\n",
       "1 No   \n",
       "2 No   \n",
       "3 Yes  \n",
       "4 No   \n",
       "5 Yes  \n",
       "6 Yes  "
      ]
     },
     "metadata": {},
     "output_type": "display_data"
    }
   ],
   "source": [
    "data.set.1 = data.set\n",
    "data.set <- dummy.data.frame(data.set, sep = \",\")\n",
    "head(data.set)\n",
    "# data.set$Churn,No = NULL\n",
    "# data.set$Churn,Yes = NULL\n",
    "data.set$Churn = data.set.1$Churn \n",
    "head(data.set)\n",
    "data.set$\"Churn,No\"=NULL\n",
    "data.set$\"Churn,Yes\"=NULL\n"
   ]
  },
  {
   "cell_type": "code",
   "execution_count": 9,
   "metadata": {},
   "outputs": [
    {
     "data": {
      "text/html": [
       "<table>\n",
       "<thead><tr><th scope=col>gender,Female</th><th scope=col>gender,Male</th><th scope=col>SeniorCitizen,0</th><th scope=col>SeniorCitizen,1</th><th scope=col>Partner,No</th><th scope=col>Partner,Yes</th><th scope=col>Dependents,No</th><th scope=col>Dependents,Yes</th><th scope=col>tenure</th><th scope=col>PhoneService,No</th><th scope=col>⋯</th><th scope=col>Contract,Two year</th><th scope=col>PaperlessBilling,No</th><th scope=col>PaperlessBilling,Yes</th><th scope=col>PaymentMethod,Bank transfer (automatic)</th><th scope=col>PaymentMethod,Credit card (automatic)</th><th scope=col>PaymentMethod,Electronic check</th><th scope=col>PaymentMethod,Mailed check</th><th scope=col>MonthlyCharges</th><th scope=col>TotalCharges</th><th scope=col>Churn</th></tr></thead>\n",
       "<tbody>\n",
       "\t<tr><td>1      </td><td>0      </td><td>1      </td><td>0      </td><td>0      </td><td>1      </td><td>1      </td><td>0      </td><td> 1     </td><td>1      </td><td>⋯      </td><td>0      </td><td>0      </td><td>1      </td><td>0      </td><td>0      </td><td>1      </td><td>0      </td><td>29.85  </td><td>  29.85</td><td>No     </td></tr>\n",
       "\t<tr><td>0      </td><td>1      </td><td>1      </td><td>0      </td><td>1      </td><td>0      </td><td>1      </td><td>0      </td><td>34     </td><td>0      </td><td>⋯      </td><td>0      </td><td>1      </td><td>0      </td><td>0      </td><td>0      </td><td>0      </td><td>1      </td><td>56.95  </td><td>1889.50</td><td>No     </td></tr>\n",
       "\t<tr><td>0      </td><td>1      </td><td>1      </td><td>0      </td><td>1      </td><td>0      </td><td>1      </td><td>0      </td><td> 2     </td><td>0      </td><td>⋯      </td><td>0      </td><td>0      </td><td>1      </td><td>0      </td><td>0      </td><td>0      </td><td>1      </td><td>53.85  </td><td> 108.15</td><td>Yes    </td></tr>\n",
       "\t<tr><td>0      </td><td>1      </td><td>1      </td><td>0      </td><td>1      </td><td>0      </td><td>1      </td><td>0      </td><td>45     </td><td>1      </td><td>⋯      </td><td>0      </td><td>1      </td><td>0      </td><td>1      </td><td>0      </td><td>0      </td><td>0      </td><td>42.30  </td><td>1840.75</td><td>No     </td></tr>\n",
       "\t<tr><td>1      </td><td>0      </td><td>1      </td><td>0      </td><td>1      </td><td>0      </td><td>1      </td><td>0      </td><td> 2     </td><td>0      </td><td>⋯      </td><td>0      </td><td>0      </td><td>1      </td><td>0      </td><td>0      </td><td>1      </td><td>0      </td><td>70.70  </td><td> 151.65</td><td>Yes    </td></tr>\n",
       "\t<tr><td>1      </td><td>0      </td><td>1      </td><td>0      </td><td>1      </td><td>0      </td><td>1      </td><td>0      </td><td> 8     </td><td>0      </td><td>⋯      </td><td>0      </td><td>0      </td><td>1      </td><td>0      </td><td>0      </td><td>1      </td><td>0      </td><td>99.65  </td><td> 820.50</td><td>Yes    </td></tr>\n",
       "</tbody>\n",
       "</table>\n"
      ],
      "text/latex": [
       "\\begin{tabular}{r|lllllllllllllllllllllllllllllllllllllllllllllll}\n",
       " gender,Female & gender,Male & SeniorCitizen,0 & SeniorCitizen,1 & Partner,No & Partner,Yes & Dependents,No & Dependents,Yes & tenure & PhoneService,No & ⋯ & Contract,Two year & PaperlessBilling,No & PaperlessBilling,Yes & PaymentMethod,Bank transfer (automatic) & PaymentMethod,Credit card (automatic) & PaymentMethod,Electronic check & PaymentMethod,Mailed check & MonthlyCharges & TotalCharges & Churn\\\\\n",
       "\\hline\n",
       "\t 1       & 0       & 1       & 0       & 0       & 1       & 1       & 0       &  1      & 1       & ⋯       & 0       & 0       & 1       & 0       & 0       & 1       & 0       & 29.85   &   29.85 & No     \\\\\n",
       "\t 0       & 1       & 1       & 0       & 1       & 0       & 1       & 0       & 34      & 0       & ⋯       & 0       & 1       & 0       & 0       & 0       & 0       & 1       & 56.95   & 1889.50 & No     \\\\\n",
       "\t 0       & 1       & 1       & 0       & 1       & 0       & 1       & 0       &  2      & 0       & ⋯       & 0       & 0       & 1       & 0       & 0       & 0       & 1       & 53.85   &  108.15 & Yes    \\\\\n",
       "\t 0       & 1       & 1       & 0       & 1       & 0       & 1       & 0       & 45      & 1       & ⋯       & 0       & 1       & 0       & 1       & 0       & 0       & 0       & 42.30   & 1840.75 & No     \\\\\n",
       "\t 1       & 0       & 1       & 0       & 1       & 0       & 1       & 0       &  2      & 0       & ⋯       & 0       & 0       & 1       & 0       & 0       & 1       & 0       & 70.70   &  151.65 & Yes    \\\\\n",
       "\t 1       & 0       & 1       & 0       & 1       & 0       & 1       & 0       &  8      & 0       & ⋯       & 0       & 0       & 1       & 0       & 0       & 1       & 0       & 99.65   &  820.50 & Yes    \\\\\n",
       "\\end{tabular}\n"
      ],
      "text/markdown": [
       "\n",
       "gender,Female | gender,Male | SeniorCitizen,0 | SeniorCitizen,1 | Partner,No | Partner,Yes | Dependents,No | Dependents,Yes | tenure | PhoneService,No | ⋯ | Contract,Two year | PaperlessBilling,No | PaperlessBilling,Yes | PaymentMethod,Bank transfer (automatic) | PaymentMethod,Credit card (automatic) | PaymentMethod,Electronic check | PaymentMethod,Mailed check | MonthlyCharges | TotalCharges | Churn | \n",
       "|---|---|---|---|---|---|\n",
       "| 1       | 0       | 1       | 0       | 0       | 1       | 1       | 0       |  1      | 1       | ⋯       | 0       | 0       | 1       | 0       | 0       | 1       | 0       | 29.85   |   29.85 | No      | \n",
       "| 0       | 1       | 1       | 0       | 1       | 0       | 1       | 0       | 34      | 0       | ⋯       | 0       | 1       | 0       | 0       | 0       | 0       | 1       | 56.95   | 1889.50 | No      | \n",
       "| 0       | 1       | 1       | 0       | 1       | 0       | 1       | 0       |  2      | 0       | ⋯       | 0       | 0       | 1       | 0       | 0       | 0       | 1       | 53.85   |  108.15 | Yes     | \n",
       "| 0       | 1       | 1       | 0       | 1       | 0       | 1       | 0       | 45      | 1       | ⋯       | 0       | 1       | 0       | 1       | 0       | 0       | 0       | 42.30   | 1840.75 | No      | \n",
       "| 1       | 0       | 1       | 0       | 1       | 0       | 1       | 0       |  2      | 0       | ⋯       | 0       | 0       | 1       | 0       | 0       | 1       | 0       | 70.70   |  151.65 | Yes     | \n",
       "| 1       | 0       | 1       | 0       | 1       | 0       | 1       | 0       |  8      | 0       | ⋯       | 0       | 0       | 1       | 0       | 0       | 1       | 0       | 99.65   |  820.50 | Yes     | \n",
       "\n",
       "\n"
      ],
      "text/plain": [
       "  gender,Female gender,Male SeniorCitizen,0 SeniorCitizen,1 Partner,No\n",
       "1 1             0           1               0               0         \n",
       "2 0             1           1               0               1         \n",
       "3 0             1           1               0               1         \n",
       "4 0             1           1               0               1         \n",
       "5 1             0           1               0               1         \n",
       "6 1             0           1               0               1         \n",
       "  Partner,Yes Dependents,No Dependents,Yes tenure PhoneService,No ⋯\n",
       "1 1           1             0               1     1               ⋯\n",
       "2 0           1             0              34     0               ⋯\n",
       "3 0           1             0               2     0               ⋯\n",
       "4 0           1             0              45     1               ⋯\n",
       "5 0           1             0               2     0               ⋯\n",
       "6 0           1             0               8     0               ⋯\n",
       "  Contract,Two year PaperlessBilling,No PaperlessBilling,Yes\n",
       "1 0                 0                   1                   \n",
       "2 0                 1                   0                   \n",
       "3 0                 0                   1                   \n",
       "4 0                 1                   0                   \n",
       "5 0                 0                   1                   \n",
       "6 0                 0                   1                   \n",
       "  PaymentMethod,Bank transfer (automatic) PaymentMethod,Credit card (automatic)\n",
       "1 0                                       0                                    \n",
       "2 0                                       0                                    \n",
       "3 0                                       0                                    \n",
       "4 1                                       0                                    \n",
       "5 0                                       0                                    \n",
       "6 0                                       0                                    \n",
       "  PaymentMethod,Electronic check PaymentMethod,Mailed check MonthlyCharges\n",
       "1 1                              0                          29.85         \n",
       "2 0                              1                          56.95         \n",
       "3 0                              1                          53.85         \n",
       "4 0                              0                          42.30         \n",
       "5 1                              0                          70.70         \n",
       "6 1                              0                          99.65         \n",
       "  TotalCharges Churn\n",
       "1   29.85      No   \n",
       "2 1889.50      No   \n",
       "3  108.15      Yes  \n",
       "4 1840.75      No   \n",
       "5  151.65      Yes  \n",
       "6  820.50      Yes  "
      ]
     },
     "metadata": {},
     "output_type": "display_data"
    }
   ],
   "source": [
    "head(data.set)"
   ]
  },
  {
   "cell_type": "markdown",
   "metadata": {},
   "source": [
    "## Test Train Split"
   ]
  },
  {
   "cell_type": "code",
   "execution_count": 10,
   "metadata": {},
   "outputs": [
    {
     "data": {
      "text/html": [
       "7043"
      ],
      "text/latex": [
       "7043"
      ],
      "text/markdown": [
       "7043"
      ],
      "text/plain": [
       "[1] 7043"
      ]
     },
     "metadata": {},
     "output_type": "display_data"
    },
    {
     "data": {
      "text/html": [
       "4930"
      ],
      "text/latex": [
       "4930"
      ],
      "text/markdown": [
       "4930"
      ],
      "text/plain": [
       "[1] 4930"
      ]
     },
     "metadata": {},
     "output_type": "display_data"
    },
    {
     "data": {
      "text/html": [
       "2113"
      ],
      "text/latex": [
       "2113"
      ],
      "text/markdown": [
       "2113"
      ],
      "text/plain": [
       "[1] 2113"
      ]
     },
     "metadata": {},
     "output_type": "display_data"
    }
   ],
   "source": [
    "set.seed(987)\n",
    "sample = sample(1:nrow(data.set),size=0.7*nrow(data.set))\n",
    "train.data.set = data.set[sample,]\n",
    "test.data.set = data.set[-sample,]\n",
    "nrow(data.set)\n",
    "nrow(train.data.set)\n",
    "nrow(test.data.set)"
   ]
  },
  {
   "cell_type": "markdown",
   "metadata": {},
   "source": [
    "## Decision Tree"
   ]
  },
  {
   "cell_type": "code",
   "execution_count": 11,
   "metadata": {
    "scrolled": false
   },
   "outputs": [
    {
     "name": "stdout",
     "output_type": "stream",
     "text": [
      "Call:\n",
      "rpart(formula = Churn ~ ., data = test.data.set, method = \"class\")\n",
      "  n= 2113 \n",
      "\n",
      "          CP nsplit rel error    xerror       xstd\n",
      "1 0.06989247      0 1.0000000 1.0000000 0.03631603\n",
      "2 0.01075269      3 0.7706093 0.7885305 0.03344956\n",
      "3 0.01000000      5 0.7491039 0.8136201 0.03383508\n",
      "\n",
      "Variable importance\n",
      "             Contract,Month-to-month                               tenure \n",
      "                                  19                                   15 \n",
      "                        TotalCharges                    Contract,Two year \n",
      "                                  11                                   10 \n",
      "                   Contract,One year                       TechSupport,No \n",
      "                                   9                                    9 \n",
      "                      MonthlyCharges          InternetService,Fiber optic \n",
      "                                   7                                    6 \n",
      "                 InternetService,DSL                    MultipleLines,Yes \n",
      "                                   5                                    3 \n",
      "                   OnlineSecurity,No                     MultipleLines,No \n",
      "                                   3                                    1 \n",
      "                     OnlineBackup,No DeviceProtection,No internet service \n",
      "                                   1                                    1 \n",
      "                  InternetService,No     OnlineBackup,No internet service \n",
      "                                   1                                    1 \n",
      "  OnlineSecurity,No internet service \n",
      "                                   1 \n",
      "\n",
      "Node number 1: 2113 observations,    complexity param=0.06989247\n",
      "  predicted class=No   expected loss=0.2640795  P(node) =1\n",
      "    class counts:  1555   558\n",
      "   probabilities: 0.736 0.264 \n",
      "  left son=2 (947 obs) right son=3 (1166 obs)\n",
      "  Primary splits:\n",
      "      Contract,Month-to-month < 0.5      to the left,  improve=145.65360, (0 missing)\n",
      "      tenure                  < 14.5     to the right, improve= 93.55934, (0 missing)\n",
      "      TechSupport,No          < 0.5      to the left,  improve= 90.54174, (0 missing)\n",
      "      OnlineSecurity,No       < 0.5      to the left,  improve= 87.68700, (0 missing)\n",
      "      Contract,Two year       < 0.5      to the right, improve= 74.82219, (0 missing)\n",
      "  Surrogate splits:\n",
      "      tenure            < 38.5     to the right, agree=0.798, adj=0.549, (0 split)\n",
      "      Contract,Two year < 0.5      to the right, agree=0.787, adj=0.525, (0 split)\n",
      "      Contract,One year < 0.5      to the right, agree=0.765, adj=0.475, (0 split)\n",
      "      TechSupport,No    < 0.5      to the left,  agree=0.710, adj=0.353, (0 split)\n",
      "      TotalCharges      < 2760.6   to the right, agree=0.700, adj=0.331, (0 split)\n",
      "\n",
      "Node number 2: 947 observations\n",
      "  predicted class=No   expected loss=0.05807814  P(node) =0.4481779\n",
      "    class counts:   892    55\n",
      "   probabilities: 0.942 0.058 \n",
      "\n",
      "Node number 3: 1166 observations,    complexity param=0.06989247\n",
      "  predicted class=No   expected loss=0.4313894  P(node) =0.5518221\n",
      "    class counts:   663   503\n",
      "   probabilities: 0.569 0.431 \n",
      "  left son=6 (526 obs) right son=7 (640 obs)\n",
      "  Primary splits:\n",
      "      InternetService,Fiber optic < 0.5      to the left,  improve=47.61953, (0 missing)\n",
      "      MonthlyCharges              < 68.8     to the left,  improve=37.60755, (0 missing)\n",
      "      TechSupport,No              < 0.5      to the left,  improve=31.04256, (0 missing)\n",
      "      OnlineSecurity,No           < 0.5      to the left,  improve=29.62197, (0 missing)\n",
      "      InternetService,No          < 0.5      to the right, improve=24.38095, (0 missing)\n",
      "  Surrogate splits:\n",
      "      MonthlyCharges      < 68.6     to the left,  agree=0.973, adj=0.939, (0 split)\n",
      "      InternetService,DSL < 0.5      to the right, agree=0.863, adj=0.696, (0 split)\n",
      "      TechSupport,No      < 0.5      to the left,  agree=0.705, adj=0.346, (0 split)\n",
      "      MultipleLines,Yes   < 0.5      to the left,  agree=0.704, adj=0.344, (0 split)\n",
      "      OnlineSecurity,No   < 0.5      to the left,  agree=0.702, adj=0.338, (0 split)\n",
      "\n",
      "Node number 6: 526 observations,    complexity param=0.01075269\n",
      "  predicted class=No   expected loss=0.2737643  P(node) =0.2489352\n",
      "    class counts:   382   144\n",
      "   probabilities: 0.726 0.274 \n",
      "  left son=12 (354 obs) right son=13 (172 obs)\n",
      "  Primary splits:\n",
      "      tenure                         < 3.5      to the right, improve=14.442980, (0 missing)\n",
      "      TotalCharges                   < 108.625  to the right, improve=10.938750, (0 missing)\n",
      "      OnlineBackup,No                < 0.5      to the left,  improve= 6.376598, (0 missing)\n",
      "      PhoneService,No                < 0.5      to the left,  improve= 6.029450, (0 missing)\n",
      "      MultipleLines,No phone service < 0.5      to the left,  improve= 6.029450, (0 missing)\n",
      "  Surrogate splits:\n",
      "      TotalCharges   < 96.7     to the right, agree=0.941, adj=0.820, (0 split)\n",
      "      MonthlyCharges < 18.9     to the right, agree=0.675, adj=0.006, (0 split)\n",
      "\n",
      "Node number 7: 640 observations,    complexity param=0.06989247\n",
      "  predicted class=Yes  expected loss=0.4390625  P(node) =0.3028869\n",
      "    class counts:   281   359\n",
      "   probabilities: 0.439 0.561 \n",
      "  left son=14 (336 obs) right son=15 (304 obs)\n",
      "  Primary splits:\n",
      "      tenure            < 14.5     to the right, improve=25.914480, (0 missing)\n",
      "      TotalCharges      < 958.9    to the right, improve=24.018950, (0 missing)\n",
      "      TechSupport,No    < 0.5      to the left,  improve= 6.978852, (0 missing)\n",
      "      TechSupport,Yes   < 0.5      to the right, improve= 6.978852, (0 missing)\n",
      "      OnlineSecurity,No < 0.5      to the left,  improve= 5.401781, (0 missing)\n",
      "  Surrogate splits:\n",
      "      TotalCharges      < 1129.875 to the right, agree=0.977, adj=0.951, (0 split)\n",
      "      MonthlyCharges    < 82.325   to the right, agree=0.695, adj=0.359, (0 split)\n",
      "      MultipleLines,No  < 0.5      to the left,  agree=0.644, adj=0.250, (0 split)\n",
      "      MultipleLines,Yes < 0.5      to the right, agree=0.644, adj=0.250, (0 split)\n",
      "      OnlineBackup,No   < 0.5      to the left,  agree=0.630, adj=0.220, (0 split)\n",
      "\n",
      "Node number 12: 354 observations\n",
      "  predicted class=No   expected loss=0.1920904  P(node) =0.1675343\n",
      "    class counts:   286    68\n",
      "   probabilities: 0.808 0.192 \n",
      "\n",
      "Node number 13: 172 observations,    complexity param=0.01075269\n",
      "  predicted class=No   expected loss=0.4418605  P(node) =0.08140085\n",
      "    class counts:    96    76\n",
      "   probabilities: 0.558 0.442 \n",
      "  left son=26 (86 obs) right son=27 (86 obs)\n",
      "  Primary splits:\n",
      "      OnlineSecurity,No                  < 0.5      to the left,  improve=5.627907, (0 missing)\n",
      "      InternetService,DSL                < 0.5      to the left,  improve=5.324616, (0 missing)\n",
      "      InternetService,No                 < 0.5      to the right, improve=5.324616, (0 missing)\n",
      "      OnlineSecurity,No internet service < 0.5      to the right, improve=5.324616, (0 missing)\n",
      "      OnlineBackup,No internet service   < 0.5      to the right, improve=5.324616, (0 missing)\n",
      "  Surrogate splits:\n",
      "      InternetService,DSL                  < 0.5      to the left,  agree=0.901, adj=0.802, (0 split)\n",
      "      InternetService,No                   < 0.5      to the right, agree=0.901, adj=0.802, (0 split)\n",
      "      OnlineSecurity,No internet service   < 0.5      to the right, agree=0.901, adj=0.802, (0 split)\n",
      "      OnlineBackup,No internet service     < 0.5      to the right, agree=0.901, adj=0.802, (0 split)\n",
      "      DeviceProtection,No internet service < 0.5      to the right, agree=0.901, adj=0.802, (0 split)\n",
      "\n",
      "Node number 14: 336 observations\n",
      "  predicted class=No   expected loss=0.4255952  P(node) =0.1590156\n",
      "    class counts:   193   143\n",
      "   probabilities: 0.574 0.426 \n",
      "\n",
      "Node number 15: 304 observations\n",
      "  predicted class=Yes  expected loss=0.2894737  P(node) =0.1438713\n",
      "    class counts:    88   216\n",
      "   probabilities: 0.289 0.711 \n",
      "\n",
      "Node number 26: 86 observations\n",
      "  predicted class=No   expected loss=0.3139535  P(node) =0.04070043\n",
      "    class counts:    59    27\n",
      "   probabilities: 0.686 0.314 \n",
      "\n",
      "Node number 27: 86 observations\n",
      "  predicted class=Yes  expected loss=0.4302326  P(node) =0.04070043\n",
      "    class counts:    37    49\n",
      "   probabilities: 0.430 0.570 \n",
      "\n"
     ]
    },
    {
     "data": {
      "text/html": [
       "<dl class=dl-horizontal>\n",
       "\t<dt>Contract,Month-to-month</dt>\n",
       "\t\t<dd>145.653566394058</dd>\n",
       "\t<dt>tenure</dt>\n",
       "\t\t<dd>120.336186594437</dd>\n",
       "\t<dt>TotalCharges</dt>\n",
       "\t\t<dd>84.6167310648116</dd>\n",
       "\t<dt>Contract,Two year</dt>\n",
       "\t\t<dd>76.4412064391199</dd>\n",
       "\t<dt>Contract,One year</dt>\n",
       "\t\t<dd>69.2123599549376</dd>\n",
       "\t<dt>TechSupport,No</dt>\n",
       "\t\t<dd>67.847671089069</dd>\n",
       "\t<dt>MonthlyCharges</dt>\n",
       "\t\t<dd>54.0982006437278</dd>\n",
       "\t<dt>InternetService,Fiber optic</dt>\n",
       "\t\t<dd>47.619529920139</dd>\n",
       "\t<dt>InternetService,DSL</dt>\n",
       "\t\t<dd>37.6499155447044</dd>\n",
       "\t<dt>MultipleLines,Yes</dt>\n",
       "\t\t<dd>22.8648084314399</dd>\n",
       "\t<dt>OnlineSecurity,No</dt>\n",
       "\t\t<dd>21.7425007520003</dd>\n",
       "\t<dt>MultipleLines,No</dt>\n",
       "\t\t<dd>6.47862037907268</dd>\n",
       "\t<dt>OnlineBackup,No</dt>\n",
       "\t\t<dd>5.71141533418249</dd>\n",
       "\t<dt>DeviceProtection,No internet service</dt>\n",
       "\t\t<dd>4.51541373715521</dd>\n",
       "\t<dt>InternetService,No</dt>\n",
       "\t\t<dd>4.51541373715521</dd>\n",
       "\t<dt>OnlineBackup,No internet service</dt>\n",
       "\t\t<dd>4.51541373715521</dd>\n",
       "\t<dt>OnlineSecurity,No internet service</dt>\n",
       "\t\t<dd>4.51541373715521</dd>\n",
       "</dl>\n"
      ],
      "text/latex": [
       "\\begin{description*}\n",
       "\\item[Contract,Month-to-month] 145.653566394058\n",
       "\\item[tenure] 120.336186594437\n",
       "\\item[TotalCharges] 84.6167310648116\n",
       "\\item[Contract,Two year] 76.4412064391199\n",
       "\\item[Contract,One year] 69.2123599549376\n",
       "\\item[TechSupport,No] 67.847671089069\n",
       "\\item[MonthlyCharges] 54.0982006437278\n",
       "\\item[InternetService,Fiber optic] 47.619529920139\n",
       "\\item[InternetService,DSL] 37.6499155447044\n",
       "\\item[MultipleLines,Yes] 22.8648084314399\n",
       "\\item[OnlineSecurity,No] 21.7425007520003\n",
       "\\item[MultipleLines,No] 6.47862037907268\n",
       "\\item[OnlineBackup,No] 5.71141533418249\n",
       "\\item[DeviceProtection,No internet service] 4.51541373715521\n",
       "\\item[InternetService,No] 4.51541373715521\n",
       "\\item[OnlineBackup,No internet service] 4.51541373715521\n",
       "\\item[OnlineSecurity,No internet service] 4.51541373715521\n",
       "\\end{description*}\n"
      ],
      "text/markdown": [
       "Contract,Month-to-month\n",
       ":   145.653566394058tenure\n",
       ":   120.336186594437TotalCharges\n",
       ":   84.6167310648116Contract,Two year\n",
       ":   76.4412064391199Contract,One year\n",
       ":   69.2123599549376TechSupport,No\n",
       ":   67.847671089069MonthlyCharges\n",
       ":   54.0982006437278InternetService,Fiber optic\n",
       ":   47.619529920139InternetService,DSL\n",
       ":   37.6499155447044MultipleLines,Yes\n",
       ":   22.8648084314399OnlineSecurity,No\n",
       ":   21.7425007520003MultipleLines,No\n",
       ":   6.47862037907268OnlineBackup,No\n",
       ":   5.71141533418249DeviceProtection,No internet service\n",
       ":   4.51541373715521InternetService,No\n",
       ":   4.51541373715521OnlineBackup,No internet service\n",
       ":   4.51541373715521OnlineSecurity,No internet service\n",
       ":   4.51541373715521\n",
       "\n"
      ],
      "text/plain": [
       "             Contract,Month-to-month                               tenure \n",
       "                          145.653566                           120.336187 \n",
       "                        TotalCharges                    Contract,Two year \n",
       "                           84.616731                            76.441206 \n",
       "                   Contract,One year                       TechSupport,No \n",
       "                           69.212360                            67.847671 \n",
       "                      MonthlyCharges          InternetService,Fiber optic \n",
       "                           54.098201                            47.619530 \n",
       "                 InternetService,DSL                    MultipleLines,Yes \n",
       "                           37.649916                            22.864808 \n",
       "                   OnlineSecurity,No                     MultipleLines,No \n",
       "                           21.742501                             6.478620 \n",
       "                     OnlineBackup,No DeviceProtection,No internet service \n",
       "                            5.711415                             4.515414 \n",
       "                  InternetService,No     OnlineBackup,No internet service \n",
       "                            4.515414                             4.515414 \n",
       "  OnlineSecurity,No internet service \n",
       "                            4.515414 "
      ]
     },
     "metadata": {},
     "output_type": "display_data"
    }
   ],
   "source": [
    "dec.tree.1 = rpart( Churn ~ . , data=test.data.set,  method = \"class\")\n",
    "summary(dec.tree.1)\n",
    "dec.tree.1$variable.importance"
   ]
  },
  {
   "cell_type": "code",
   "execution_count": 12,
   "metadata": {},
   "outputs": [
    {
     "data": {
      "image/png": "[encoded data removed]",
      "text/plain": [
       "plot without title"
      ]
     },
     "metadata": {},
     "output_type": "display_data"
    }
   ],
   "source": [
    "rpart.plot(dec.tree.1)\n",
    "# ?rpart"
   ]
  },
  {
   "cell_type": "code",
   "execution_count": 13,
   "metadata": {},
   "outputs": [
    {
     "data": {
      "text/html": [
       "<table>\n",
       "<thead><tr><th scope=col>Churn</th><th scope=col>Churn.pred</th></tr></thead>\n",
       "<tbody>\n",
       "\t<tr><td>No </td><td>No </td></tr>\n",
       "\t<tr><td>No </td><td>No </td></tr>\n",
       "\t<tr><td>Yes</td><td>No </td></tr>\n",
       "\t<tr><td>Yes</td><td>Yes</td></tr>\n",
       "\t<tr><td>No </td><td>No </td></tr>\n",
       "\t<tr><td>No </td><td>No </td></tr>\n",
       "</tbody>\n",
       "</table>\n"
      ],
      "text/latex": [
       "\\begin{tabular}{r|ll}\n",
       " Churn & Churn.pred\\\\\n",
       "\\hline\n",
       "\t No  & No \\\\\n",
       "\t No  & No \\\\\n",
       "\t Yes & No \\\\\n",
       "\t Yes & Yes\\\\\n",
       "\t No  & No \\\\\n",
       "\t No  & No \\\\\n",
       "\\end{tabular}\n"
      ],
      "text/markdown": [
       "\n",
       "Churn | Churn.pred | \n",
       "|---|---|---|---|---|---|\n",
       "| No  | No  | \n",
       "| No  | No  | \n",
       "| Yes | No  | \n",
       "| Yes | Yes | \n",
       "| No  | No  | \n",
       "| No  | No  | \n",
       "\n",
       "\n"
      ],
      "text/plain": [
       "  Churn Churn.pred\n",
       "1 No    No        \n",
       "2 No    No        \n",
       "3 Yes   No        \n",
       "4 Yes   Yes       \n",
       "5 No    No        \n",
       "6 No    No        "
      ]
     },
     "metadata": {},
     "output_type": "display_data"
    },
    {
     "data": {
      "text/plain": [
       "\n",
       "  No  Yes \n",
       "3619 1311 "
      ]
     },
     "metadata": {},
     "output_type": "display_data"
    }
   ],
   "source": [
    "## Predictions\n",
    "pred.train.data.set = as.data.frame(train.data.set$Churn)\n",
    "colnames(pred.train.data.set)[1] = \"Churn\"\n",
    "pred.train.data.set$Churn.pred = predict(dec.tree.1,newdata = train.data.set,type=\"class\")\n",
    "head(pred.train.data.set)\n",
    "table(pred.train.data.set$Churn)"
   ]
  },
  {
   "cell_type": "code",
   "execution_count": 19,
   "metadata": {},
   "outputs": [
    {
     "data": {
      "text/plain": [
       "     \n",
       "        No  Yes\n",
       "  No  3309  310\n",
       "  Yes  714  597"
      ]
     },
     "metadata": {},
     "output_type": "display_data"
    },
    {
     "data": {
      "text/html": [
       "4930"
      ],
      "text/latex": [
       "4930"
      ],
      "text/markdown": [
       "4930"
      ],
      "text/plain": [
       "[1] 4930"
      ]
     },
     "metadata": {},
     "output_type": "display_data"
    },
    {
     "data": {
      "text/html": [
       "0.792292089249493"
      ],
      "text/latex": [
       "0.792292089249493"
      ],
      "text/markdown": [
       "0.792292089249493"
      ],
      "text/plain": [
       "[1] 0.7922921"
      ]
     },
     "metadata": {},
     "output_type": "display_data"
    },
    {
     "data": {
      "text/html": [
       "0.455377574370709"
      ],
      "text/latex": [
       "0.455377574370709"
      ],
      "text/markdown": [
       "0.455377574370709"
      ],
      "text/plain": [
       "[1] 0.4553776"
      ]
     },
     "metadata": {},
     "output_type": "display_data"
    },
    {
     "data": {
      "text/html": [
       "0.658213891951488"
      ],
      "text/latex": [
       "0.658213891951488"
      ],
      "text/markdown": [
       "0.658213891951488"
      ],
      "text/plain": [
       "[1] 0.6582139"
      ]
     },
     "metadata": {},
     "output_type": "display_data"
    },
    {
     "data": {
      "text/html": [
       "0.538322813345356"
      ],
      "text/latex": [
       "0.538322813345356"
      ],
      "text/markdown": [
       "0.538322813345356"
      ],
      "text/plain": [
       "[1] 0.5383228"
      ]
     },
     "metadata": {},
     "output_type": "display_data"
    }
   ],
   "source": [
    "table(pred.train.data.set$Churn,pred.train.data.set$Churn.pred)\n",
    "nrow(pred.train.data.set)\n",
    "tr.TN = table(pred.train.data.set$Churn,pred.train.data.set$Churn.pred)[1]\n",
    "tr.FP = table(pred.train.data.set$Churn,pred.train.data.set$Churn.pred)[2]\n",
    "tr.FN = table(pred.train.data.set$Churn,pred.train.data.set$Churn.pred)[3]\n",
    "tr.TP = table(pred.train.data.set$Churn,pred.train.data.set$Churn.pred)[4]\n",
    "\n",
    "tr.Accuray = (tr.TN+tr.TP)/(tr.TN+tr.TP+tr.FN+tr.FP)\n",
    "tr.Precision = (tr.TP)/(tr.TP+tr.FP)\n",
    "tr.Recall = (tr.TP)/(tr.TP+tr.FN)\n",
    "tr.F1 = 2*tr.Precision*tr.Recall/(tr.Precision+tr.Recall)\n",
    "\n",
    "tr.Accuray\n",
    "tr.Precision\n",
    "tr.Recall\n",
    "tr.F1"
   ]
  },
  {
   "cell_type": "code",
   "execution_count": 16,
   "metadata": {},
   "outputs": [
    {
     "data": {
      "text/html": [
       "<table>\n",
       "<thead><tr><th scope=col>Churn</th><th scope=col>Churn.pred</th></tr></thead>\n",
       "<tbody>\n",
       "\t<tr><td>Yes</td><td>No </td></tr>\n",
       "\t<tr><td>No </td><td>No </td></tr>\n",
       "\t<tr><td>No </td><td>No </td></tr>\n",
       "\t<tr><td>Yes</td><td>No </td></tr>\n",
       "\t<tr><td>No </td><td>No </td></tr>\n",
       "\t<tr><td>No </td><td>No </td></tr>\n",
       "</tbody>\n",
       "</table>\n"
      ],
      "text/latex": [
       "\\begin{tabular}{r|ll}\n",
       " Churn & Churn.pred\\\\\n",
       "\\hline\n",
       "\t Yes & No \\\\\n",
       "\t No  & No \\\\\n",
       "\t No  & No \\\\\n",
       "\t Yes & No \\\\\n",
       "\t No  & No \\\\\n",
       "\t No  & No \\\\\n",
       "\\end{tabular}\n"
      ],
      "text/markdown": [
       "\n",
       "Churn | Churn.pred | \n",
       "|---|---|---|---|---|---|\n",
       "| Yes | No  | \n",
       "| No  | No  | \n",
       "| No  | No  | \n",
       "| Yes | No  | \n",
       "| No  | No  | \n",
       "| No  | No  | \n",
       "\n",
       "\n"
      ],
      "text/plain": [
       "  Churn Churn.pred\n",
       "1 Yes   No        \n",
       "2 No    No        \n",
       "3 No    No        \n",
       "4 Yes   No        \n",
       "5 No    No        \n",
       "6 No    No        "
      ]
     },
     "metadata": {},
     "output_type": "display_data"
    },
    {
     "data": {
      "text/plain": [
       "\n",
       "  No  Yes \n",
       "1555  558 "
      ]
     },
     "metadata": {},
     "output_type": "display_data"
    }
   ],
   "source": [
    "## Predictions\n",
    "pred.test.data.set = as.data.frame(test.data.set$Churn)\n",
    "colnames(pred.test.data.set)[1] = \"Churn\"\n",
    "pred.test.data.set$Churn.pred = predict(dec.tree.1,newdata = test.data.set,type=\"class\")\n",
    "head(pred.test.data.set)\n",
    "table(pred.test.data.set$Churn)"
   ]
  },
  {
   "cell_type": "code",
   "execution_count": 18,
   "metadata": {},
   "outputs": [
    {
     "data": {
      "text/plain": [
       "     \n",
       "        No  Yes\n",
       "  No  1430  125\n",
       "  Yes  293  265"
      ]
     },
     "metadata": {},
     "output_type": "display_data"
    },
    {
     "data": {
      "text/html": [
       "0.802176999526739"
      ],
      "text/latex": [
       "0.802176999526739"
      ],
      "text/markdown": [
       "0.802176999526739"
      ],
      "text/plain": [
       "[1] 0.802177"
      ]
     },
     "metadata": {},
     "output_type": "display_data"
    },
    {
     "data": {
      "text/html": [
       "0.474910394265233"
      ],
      "text/latex": [
       "0.474910394265233"
      ],
      "text/markdown": [
       "0.474910394265233"
      ],
      "text/plain": [
       "[1] 0.4749104"
      ]
     },
     "metadata": {},
     "output_type": "display_data"
    },
    {
     "data": {
      "text/html": [
       "0.67948717948718"
      ],
      "text/latex": [
       "0.67948717948718"
      ],
      "text/markdown": [
       "0.67948717948718"
      ],
      "text/plain": [
       "[1] 0.6794872"
      ]
     },
     "metadata": {},
     "output_type": "display_data"
    },
    {
     "data": {
      "text/html": [
       "0.559071729957806"
      ],
      "text/latex": [
       "0.559071729957806"
      ],
      "text/markdown": [
       "0.559071729957806"
      ],
      "text/plain": [
       "[1] 0.5590717"
      ]
     },
     "metadata": {},
     "output_type": "display_data"
    }
   ],
   "source": [
    "table(pred.test.data.set$Churn,pred.test.data.set$Churn.pred)\n",
    "tt.TN = table(pred.test.data.set$Churn,pred.test.data.set$Churn.pred)[1]\n",
    "tt.FP = table(pred.test.data.set$Churn,pred.test.data.set$Churn.pred)[2]\n",
    "tt.FN = table(pred.test.data.set$Churn,pred.test.data.set$Churn.pred)[3]\n",
    "tt.TP = table(pred.test.data.set$Churn,pred.test.data.set$Churn.pred)[4]\n",
    "\n",
    "tt.Precision = (tt.TP)/(tt.TP+tt.FP)\n",
    "tt.Accuray = (tt.TN+tt.TP)/(tt.TN+tt.TP+tt.FN+tt.FP)\n",
    "tt.Recall = (tt.TP)/(tt.TP+tt.FN)\n",
    "tt.F1 = 2*tt.Precision*tt.Recall/(tt.Precision+tt.Recall)\n",
    "\n",
    "tt.Accuray\n",
    "tt.Precision\n",
    "tt.Recall\n",
    "tt.F1"
   ]
  },
  {
   "cell_type": "code",
   "execution_count": null,
   "metadata": {},
   "outputs": [],
   "source": []
  },
  {
   "cell_type": "code",
   "execution_count": null,
   "metadata": {},
   "outputs": [],
   "source": []
  }
 ],
 "metadata": {
  "kernelspec": {
   "display_name": "R",
   "language": "R",
   "name": "ir"
  },
  "language_info": {
   "codemirror_mode": "r",
   "file_extension": ".r",
   "mimetype": "text/x-r-source",
   "name": "R",
   "pygments_lexer": "r",
   "version": "3.4.1"
  }
 },
 "nbformat": 4,
 "nbformat_minor": 2
}
